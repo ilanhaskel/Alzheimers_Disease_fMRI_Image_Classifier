{
  "nbformat": 4,
  "nbformat_minor": 0,
  "metadata": {
    "colab": {
      "provenance": []
    },
    "kernelspec": {
      "name": "python3",
      "display_name": "Python 3"
    },
    "language_info": {
      "name": "python"
    },
    "gpuClass": "premium",
    "accelerator": "GPU"
  },
  "cells": [
    {
      "cell_type": "markdown",
      "source": [
        "# Brain f-MRI Image Classification of Alzheimer's Diagnosis Using Deep Learning Modeling CNNs"
      ],
      "metadata": {
        "id": "43d1AX7QBtll"
      }
    },
    {
      "cell_type": "markdown",
      "source": [
        "## Imports"
      ],
      "metadata": {
        "id": "WGpj53wqcvZs"
      }
    },
    {
      "cell_type": "code",
      "execution_count": 1,
      "metadata": {
        "id": "AcyS1xblewrU"
      },
      "outputs": [],
      "source": [
        "import tensorflow as tf\n",
        "from matplotlib import pyplot as plt\n",
        "import numpy as np\n",
        "from tensorflow.keras import datasets, layers, models, regularizers\n",
        "import pandas as pd\n",
        "from sklearn.model_selection import train_test_split\n",
        "from sklearn.metrics import confusion_matrix\n",
        "import seaborn as sns\n",
        "from tensorflow.keras.callbacks import EarlyStopping\n",
        "\n",
        "%matplotlib inline"
      ]
    },
    {
      "cell_type": "code",
      "source": [
        "from numpy.random import seed\n",
        "seed(72)\n",
        "import tensorflow as tf\n",
        "tf.random.set_seed(72)"
      ],
      "metadata": {
        "id": "0A1t7MVCA4d6"
      },
      "execution_count": 2,
      "outputs": []
    },
    {
      "cell_type": "code",
      "source": [
        "# Uncomment & run below line only if gradio has not been installed before:\n",
        "!pip install gradio\n",
        "\n",
        "import gradio as gr"
      ],
      "metadata": {
        "id": "iq277-N0BUZB"
      },
      "execution_count": null,
      "outputs": []
    },
    {
      "cell_type": "code",
      "source": [
        "from google.colab import drive\n",
        "drive.mount('/content/drive')"
      ],
      "metadata": {
        "colab": {
          "base_uri": "https://localhost:8080/"
        },
        "id": "l77I79jzBXAR",
        "outputId": "ce74f4a0-c999-4866-e22d-3774135e4440"
      },
      "execution_count": 4,
      "outputs": [
        {
          "output_type": "stream",
          "name": "stdout",
          "text": [
            "Mounted at /content/drive\n"
          ]
        }
      ]
    },
    {
      "cell_type": "markdown",
      "source": [
        "## Splitting Dataset"
      ],
      "metadata": {
        "id": "hkWypu2cc6_Y"
      }
    },
    {
      "cell_type": "code",
      "source": [
        "train_data = tf.keras.preprocessing.image_dataset_from_directory(\n",
        "    directory='/content/drive/MyDrive/data',\n",
        "    batch_size=32,\n",
        "    seed=42,\n",
        "    validation_split=0.2,\n",
        "    subset='training'\n",
        ")"
      ],
      "metadata": {
        "colab": {
          "base_uri": "https://localhost:8080/"
        },
        "id": "S8JWpd_gRdAS",
        "outputId": "1baab624-6a6c-453c-b0af-264830c4a85c"
      },
      "execution_count": 9,
      "outputs": [
        {
          "output_type": "stream",
          "name": "stdout",
          "text": [
            "Found 6400 files belonging to 2 classes.\n"
          ]
        }
      ]
    },
    {
      "cell_type": "code",
      "source": [
        "val_data = tf.keras.preprocessing.image_dataset_from_directory(\n",
        "    directory='/content/drive/MyDrive/data',\n",
        "    batch_size=32,\n",
        "    seed=42,\n",
        "    validation_split=0.2,\n",
        "    subset='validation'\n",
        ")"
      ],
      "metadata": {
        "id": "8Tg3wGePKAJ6"
      },
      "execution_count": null,
      "outputs": []
    },
    {
      "cell_type": "code",
      "source": [],
      "metadata": {
        "id": "bULZgF5Bcoy6"
      },
      "execution_count": null,
      "outputs": []
    }
  ]
}